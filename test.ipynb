{
 "cells": [
  {
   "cell_type": "code",
   "execution_count": 97,
   "metadata": {
    "collapsed": true
   },
   "outputs": [],
   "source": [
    "import pandas as pd"
   ]
  },
  {
   "cell_type": "code",
   "execution_count": 98,
   "outputs": [
    {
     "data": {
      "text/plain": "     Обоснование Наименование работ и затрат  \\\n0            NaN                         NaN   \n1            NaN                         NaN   \n2            NaN                         NaN   \n3            NaN                         NaN   \n4            NaN                         NaN   \n...          ...                         ...   \n1767          у(                         NaN   \n1768         NaN                           р   \n1769           =                         NaN   \n1770         NaN                         NaN   \n1771           |                         NaN   \n\n     Сметная стоимость в базисном уровне цен(на единицу)  Индексы  \n0                                                   NaN       NaN  \n1                                                   NaN       NaN  \n2                                                   NaN       Код  \n3                                                   NaN   0322005  \n4                                                   NaN       NaN  \n...                                                 ...       ...  \n1767                                                NaN       NaN  \n1768                                                NaN       NaN  \n1769                                                NaN       NaN  \n1770                                                NaN       NaN  \n1771                                                NaN       NaN  \n\n[1772 rows x 4 columns]",
      "text/html": "<div>\n<style scoped>\n    .dataframe tbody tr th:only-of-type {\n        vertical-align: middle;\n    }\n\n    .dataframe tbody tr th {\n        vertical-align: top;\n    }\n\n    .dataframe thead th {\n        text-align: right;\n    }\n</style>\n<table border=\"1\" class=\"dataframe\">\n  <thead>\n    <tr style=\"text-align: right;\">\n      <th></th>\n      <th>Обоснование</th>\n      <th>Наименование работ и затрат</th>\n      <th>Сметная стоимость в базисном уровне цен(на единицу)</th>\n      <th>Индексы</th>\n    </tr>\n  </thead>\n  <tbody>\n    <tr>\n      <th>0</th>\n      <td>NaN</td>\n      <td>NaN</td>\n      <td>NaN</td>\n      <td>NaN</td>\n    </tr>\n    <tr>\n      <th>1</th>\n      <td>NaN</td>\n      <td>NaN</td>\n      <td>NaN</td>\n      <td>NaN</td>\n    </tr>\n    <tr>\n      <th>2</th>\n      <td>NaN</td>\n      <td>NaN</td>\n      <td>NaN</td>\n      <td>Код</td>\n    </tr>\n    <tr>\n      <th>3</th>\n      <td>NaN</td>\n      <td>NaN</td>\n      <td>NaN</td>\n      <td>0322005</td>\n    </tr>\n    <tr>\n      <th>4</th>\n      <td>NaN</td>\n      <td>NaN</td>\n      <td>NaN</td>\n      <td>NaN</td>\n    </tr>\n    <tr>\n      <th>...</th>\n      <td>...</td>\n      <td>...</td>\n      <td>...</td>\n      <td>...</td>\n    </tr>\n    <tr>\n      <th>1767</th>\n      <td>у(</td>\n      <td>NaN</td>\n      <td>NaN</td>\n      <td>NaN</td>\n    </tr>\n    <tr>\n      <th>1768</th>\n      <td>NaN</td>\n      <td>р</td>\n      <td>NaN</td>\n      <td>NaN</td>\n    </tr>\n    <tr>\n      <th>1769</th>\n      <td>=</td>\n      <td>NaN</td>\n      <td>NaN</td>\n      <td>NaN</td>\n    </tr>\n    <tr>\n      <th>1770</th>\n      <td>NaN</td>\n      <td>NaN</td>\n      <td>NaN</td>\n      <td>NaN</td>\n    </tr>\n    <tr>\n      <th>1771</th>\n      <td>|</td>\n      <td>NaN</td>\n      <td>NaN</td>\n      <td>NaN</td>\n    </tr>\n  </tbody>\n</table>\n<p>1772 rows × 4 columns</p>\n</div>"
     },
     "execution_count": 98,
     "metadata": {},
     "output_type": "execute_result"
    }
   ],
   "source": [
    "df = pd.read_excel('КС/КС2-1.xlsx', usecols=[2,3,8,11], engine='openpyxl')\n",
    "df\n"
   ],
   "metadata": {
    "collapsed": false,
    "pycharm": {
     "name": "#%%\n"
    }
   }
  },
  {
   "cell_type": "code",
   "execution_count": 99,
   "outputs": [
    {
     "data": {
      "text/plain": "        Обоснование               Наименование работ и затрат  \\\n144   ТЦ_01.7.04.11                              Дверной упор   \n151   ТЦ_08.1.06.01        Жалюзи-ролетта АЕК44т /$ 1136х2500   \n192   ТЦ_11.2.02.00                        Дверь с фурнитурой   \n747   ТЦ_09.2.02.01   Подвесной кассетный потолок \"Грильято\"+   \n786   ТЦ_09.2.02.01         Подвесной потолок Оипа Мсегоюок +   \n1038  ТЦ_06.2.05.03          Керамогранит 600х600 (02 600*600   \n1046  ТЦ_06.2.05.03         Керамогранит СЕ020 Суперчёрный МВ   \n1312  ТЦ_01.6.02.01  Флизелин малярный \\\\Р 110 У/еЖопЕИ2 1*25   \n1320  ТЦ_01.6.02.01            Стеклохолст \\М!аШЩех М 40 1*50   \n1429  ТЦ_06.2.05.03      Сгаа сегаписа ГаигеКе ми/ПКе уха! 01   \n1482  ТЦ_07.2.06.03               Профиль уголок 10х10х1 1000   \n1547  ТЦ_19.1.01.11             Люк дверца 200х300 мм пластик   \n1553  ТЦ_19.1.01.11             Люк дверца 300х400 мм пластик   \n1655  ТЦ_06.2.05.03        Керамогранит 600х600 1.204 600*600   \n1662  ТЦ_06.2.05.03        Керамогранит 600х600 1.202 600*600   \n\n     Сметная стоимость в базисном уровне цен(на единицу) Индексы  \n144                                              688,50      5,4  \n151                                           48 067,50      5,4  \n192                                           15 268,21      5,4  \n747                                             1886,77      5,4  \n786                                             1419,04      5,4  \n1038                                           1 610,75      5,4  \n1046                                           1 266,50      5,4  \n1312                                            2631,22      5,4  \n1320                                           1 075,25      5,4  \n1429                                           1 350,65      5,4  \n1482                                              67,15      5,4  \n1547                                             237,15      5,4  \n1553                                             436,05      5,4  \n1655                                           1 946,50      5,4  \n1662                                           1 976,25      5,4  ",
      "text/html": "<div>\n<style scoped>\n    .dataframe tbody tr th:only-of-type {\n        vertical-align: middle;\n    }\n\n    .dataframe tbody tr th {\n        vertical-align: top;\n    }\n\n    .dataframe thead th {\n        text-align: right;\n    }\n</style>\n<table border=\"1\" class=\"dataframe\">\n  <thead>\n    <tr style=\"text-align: right;\">\n      <th></th>\n      <th>Обоснование</th>\n      <th>Наименование работ и затрат</th>\n      <th>Сметная стоимость в базисном уровне цен(на единицу)</th>\n      <th>Индексы</th>\n    </tr>\n  </thead>\n  <tbody>\n    <tr>\n      <th>144</th>\n      <td>ТЦ_01.7.04.11</td>\n      <td>Дверной упор</td>\n      <td>688,50</td>\n      <td>5,4</td>\n    </tr>\n    <tr>\n      <th>151</th>\n      <td>ТЦ_08.1.06.01</td>\n      <td>Жалюзи-ролетта АЕК44т /$ 1136х2500</td>\n      <td>48 067,50</td>\n      <td>5,4</td>\n    </tr>\n    <tr>\n      <th>192</th>\n      <td>ТЦ_11.2.02.00</td>\n      <td>Дверь с фурнитурой</td>\n      <td>15 268,21</td>\n      <td>5,4</td>\n    </tr>\n    <tr>\n      <th>747</th>\n      <td>ТЦ_09.2.02.01</td>\n      <td>Подвесной кассетный потолок \"Грильято\"+</td>\n      <td>1886,77</td>\n      <td>5,4</td>\n    </tr>\n    <tr>\n      <th>786</th>\n      <td>ТЦ_09.2.02.01</td>\n      <td>Подвесной потолок Оипа Мсегоюок +</td>\n      <td>1419,04</td>\n      <td>5,4</td>\n    </tr>\n    <tr>\n      <th>1038</th>\n      <td>ТЦ_06.2.05.03</td>\n      <td>Керамогранит 600х600 (02 600*600</td>\n      <td>1 610,75</td>\n      <td>5,4</td>\n    </tr>\n    <tr>\n      <th>1046</th>\n      <td>ТЦ_06.2.05.03</td>\n      <td>Керамогранит СЕ020 Суперчёрный МВ</td>\n      <td>1 266,50</td>\n      <td>5,4</td>\n    </tr>\n    <tr>\n      <th>1312</th>\n      <td>ТЦ_01.6.02.01</td>\n      <td>Флизелин малярный \\\\Р 110 У/еЖопЕИ2 1*25</td>\n      <td>2631,22</td>\n      <td>5,4</td>\n    </tr>\n    <tr>\n      <th>1320</th>\n      <td>ТЦ_01.6.02.01</td>\n      <td>Стеклохолст \\М!аШЩех М 40 1*50</td>\n      <td>1 075,25</td>\n      <td>5,4</td>\n    </tr>\n    <tr>\n      <th>1429</th>\n      <td>ТЦ_06.2.05.03</td>\n      <td>Сгаа сегаписа ГаигеКе ми/ПКе уха! 01</td>\n      <td>1 350,65</td>\n      <td>5,4</td>\n    </tr>\n    <tr>\n      <th>1482</th>\n      <td>ТЦ_07.2.06.03</td>\n      <td>Профиль уголок 10х10х1 1000</td>\n      <td>67,15</td>\n      <td>5,4</td>\n    </tr>\n    <tr>\n      <th>1547</th>\n      <td>ТЦ_19.1.01.11</td>\n      <td>Люк дверца 200х300 мм пластик</td>\n      <td>237,15</td>\n      <td>5,4</td>\n    </tr>\n    <tr>\n      <th>1553</th>\n      <td>ТЦ_19.1.01.11</td>\n      <td>Люк дверца 300х400 мм пластик</td>\n      <td>436,05</td>\n      <td>5,4</td>\n    </tr>\n    <tr>\n      <th>1655</th>\n      <td>ТЦ_06.2.05.03</td>\n      <td>Керамогранит 600х600 1.204 600*600</td>\n      <td>1 946,50</td>\n      <td>5,4</td>\n    </tr>\n    <tr>\n      <th>1662</th>\n      <td>ТЦ_06.2.05.03</td>\n      <td>Керамогранит 600х600 1.202 600*600</td>\n      <td>1 976,25</td>\n      <td>5,4</td>\n    </tr>\n  </tbody>\n</table>\n</div>"
     },
     "execution_count": 99,
     "metadata": {},
     "output_type": "execute_result"
    }
   ],
   "source": [
    "df = df[df['Обоснование'].str.contains('ТЦ_', regex=False, na=False)]\n",
    "df\n"
   ],
   "metadata": {
    "collapsed": false,
    "pycharm": {
     "name": "#%%\n"
    }
   }
  },
  {
   "cell_type": "code",
   "execution_count": 92,
   "outputs": [],
   "source": [
    "items_for_search = dict()\n",
    "\n",
    "for item in df.iloc:\n",
    "    items_for_search[item[1]] = item[2], item[3]"
   ],
   "metadata": {
    "collapsed": false,
    "pycharm": {
     "name": "#%%\n"
    }
   }
  },
  {
   "cell_type": "code",
   "execution_count": 93,
   "outputs": [
    {
     "data": {
      "text/plain": "{'Дверной упор': ('688,50', '5,4'),\n 'Жалюзи-ролетта АЕК44т /$ 1136х2500': ('48 067,50', '5,4'),\n 'Дверь с фурнитурой': ('15 268,21', '5,4'),\n 'Подвесной кассетный потолок \"Грильято\"+': ('1886,77', '5,4'),\n 'Подвесной потолок Оипа Мсегоюок +': ('1419,04', '5,4'),\n 'Керамогранит 600х600 (02 600*600': ('1 610,75', '5,4'),\n 'Керамогранит СЕ020 Суперчёрный МВ': ('1 266,50', '5,4'),\n 'Флизелин малярный \\\\\\\\Р 110 У/еЖопЕИ2 1*25': ('2631,22', '5,4'),\n 'Стеклохолст \\\\М!аШЩех М 40 1*50': ('1 075,25', '5,4'),\n 'Сгаа сегаписа ГаигеКе ми/ПКе уха! 01': ('1 350,65', '5,4'),\n 'Профиль уголок 10х10х1 1000': ('67,15', '5,4'),\n 'Люк дверца 200х300 мм пластик': ('237,15', '5,4'),\n 'Люк дверца 300х400 мм пластик': ('436,05', '5,4'),\n 'Керамогранит 600х600 1.204 600*600': ('1 946,50', '5,4'),\n 'Керамогранит 600х600 1.202 600*600': ('1 976,25', '5,4')}"
     },
     "execution_count": 93,
     "metadata": {},
     "output_type": "execute_result"
    }
   ],
   "source": [
    "items_for_search\n"
   ],
   "metadata": {
    "collapsed": false,
    "pycharm": {
     "name": "#%%\n"
    }
   }
  },
  {
   "cell_type": "code",
   "execution_count": 94,
   "outputs": [
    {
     "data": {
      "text/plain": "{'Дверной упор': (826.2, '5,4'),\n 'Жалюзи-ролетта АЕК44т /$ 1136х2500': (57681.0, '5,4'),\n 'Дверь с фурнитурой': (18321.852, '5,4'),\n 'Подвесной кассетный потолок \"Грильято\"+': (2264.124, '5,4'),\n 'Подвесной потолок Оипа Мсегоюок +': (1702.848, '5,4'),\n 'Керамогранит 600х600 (02 600*600': (1932.9, '5,4'),\n 'Керамогранит СЕ020 Суперчёрный МВ': (1519.8, '5,4'),\n 'Флизелин малярный \\\\\\\\Р 110 У/еЖопЕИ2 1*25': (3157.464, '5,4'),\n 'Стеклохолст \\\\М!аШЩех М 40 1*50': (1290.3, '5,4'),\n 'Сгаа сегаписа ГаигеКе ми/ПКе уха! 01': (1620.78, '5,4'),\n 'Профиль уголок 10х10х1 1000': (80.58, '5,4'),\n 'Люк дверца 200х300 мм пластик': (284.58, '5,4'),\n 'Люк дверца 300х400 мм пластик': (523.26, '5,4'),\n 'Керамогранит 600х600 1.204 600*600': (2335.8, '5,4'),\n 'Керамогранит 600х600 1.202 600*600': (2371.5, '5,4')}"
     },
     "execution_count": 94,
     "metadata": {},
     "output_type": "execute_result"
    }
   ],
   "source": [
    "items_for_search = {key: (round(float(''.join(value[0].replace(',', '.').split()))*1.2, 4), value[1]) for key, value in items_for_search.items()}\n",
    "items_for_search"
   ],
   "metadata": {
    "collapsed": false,
    "pycharm": {
     "name": "#%%\n"
    }
   }
  },
  {
   "cell_type": "code",
   "execution_count": null,
   "outputs": [],
   "source": [],
   "metadata": {
    "collapsed": false,
    "pycharm": {
     "name": "#%%\n"
    }
   }
  }
 ],
 "metadata": {
  "kernelspec": {
   "display_name": "Python 3",
   "language": "python",
   "name": "python3"
  },
  "language_info": {
   "codemirror_mode": {
    "name": "ipython",
    "version": 2
   },
   "file_extension": ".py",
   "mimetype": "text/x-python",
   "name": "python",
   "nbconvert_exporter": "python",
   "pygments_lexer": "ipython2",
   "version": "2.7.6"
  }
 },
 "nbformat": 4,
 "nbformat_minor": 0
}